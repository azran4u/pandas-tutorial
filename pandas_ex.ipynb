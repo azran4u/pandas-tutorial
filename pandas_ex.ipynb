{
 "cells": [
  {
   "cell_type": "markdown",
   "metadata": {},
   "source": [
    "# תרגיל PANDAS"
   ]
  },
  {
   "cell_type": "markdown",
   "metadata": {},
   "source": [
    "במחברת זו הכנו עבורכם תרגילון קצר על PANDAS שיעזור לכם להטמיע שימוש בסיסי בספרייה ולוודא שאתם מספיק בקיאים בה לקראת הקורס עצמו"
   ]
  },
  {
   "cell_type": "markdown",
   "metadata": {},
   "source": [
    "כל השאלות מתייחסות לקובץ pandas_ex_data.csv המצורף עם מחברת זו."
   ]
  },
  {
   "cell_type": "markdown",
   "metadata": {},
   "source": [
    "##  שאלה 1"
   ]
  },
  {
   "cell_type": "markdown",
   "metadata": {},
   "source": [
    "טענו את הקובץ לטבלה. <br> \n",
    "כמה עמודות יש לטבלה? מה שמות העמודות? <br>\n",
    "כמה שורות יש לטבלה? <br>\n",
    "מאיזו סוג כל עמודה? "
   ]
  },
  {
   "cell_type": "code",
   "execution_count": 11,
   "metadata": {},
   "outputs": [
    {
     "output_type": "stream",
     "name": "stdout",
     "text": [
      "c:\\dev\\python-tutorial\\pandas_ex_data.csv\n",
      "num of columns: 4\n",
      "columns names: ['id' 'teacher_id' 'father_id' 'birth_date']\n",
      "num of rows: 534000\n",
      "columns types: id              int64\n",
      "teacher_id    float64\n",
      "father_id     float64\n",
      "birth_date     object\n",
      "dtype: object\n"
     ]
    }
   ],
   "source": [
    "import os\n",
    "import pandas as pd\n",
    "\n",
    "path = os.getcwd() + '\\\\pandas_ex_data.csv'\n",
    "df = pd.read_csv(path)\n",
    "print(\"num of columns: {0}\".format(len(df.columns)))\n",
    "print(\"columns names: {0}\".format(df.columns.values))\n",
    "print(\"num of rows: {0}\".format(len(df.index)))\n",
    "print(\"columns types: {0}\".format(df.dtypes))"
   ]
  },
  {
   "cell_type": "markdown",
   "metadata": {},
   "source": [
    "## שאלה 2"
   ]
  },
  {
   "cell_type": "markdown",
   "metadata": {},
   "source": [
    "הוסיפו לטבלה עמודה מחושבת ששומרת את הגיל (נכון להיום) בשנים עבור כל אחד מהאנשים המופיעים בטבלה. <br>\n",
    "ודאו נכונות תשובתכם. <br>\n",
    "שימרו את הטבלה עם העמודה החדשה לקובץ CSV חדש עם שם משמעותי"
   ]
  },
  {
   "cell_type": "code",
   "execution_count": 34,
   "metadata": {},
   "outputs": [
    {
     "output_type": "stream",
     "name": "stdout",
     "text": [
      "     id  teacher_id  father_id  birth_date  age\n0  3000         NaN        NaN  1941-04-09   79\n1  3001         NaN        NaN  1943-02-05   77\n2  3002         NaN        NaN  1957-02-27   63\n3  3003         NaN        NaN  1949-04-28   71\n4  3004         NaN        NaN  1944-02-26   76\n"
     ]
    }
   ],
   "source": [
    "import os\n",
    "import pandas as pd\n",
    "from datetime import datetime, timedelta \n",
    "\n",
    "path = os.getcwd() + '\\\\pandas_ex_data.csv'\n",
    "outPath = os.getcwd() + '\\\\pandas_ex_data_with_age.csv'\n",
    "\n",
    "df = pd.read_csv(path)\n",
    "currentTime = datetime.now()\n",
    "\n",
    "def ageInYears(birth_date, current_date):\n",
    "    format_str = \"%Y-%m-%d\"\n",
    "    birth_date_converted = datetime.strptime(birth_date, format_str)\n",
    "    delta = current_date - birth_date_converted\n",
    "    age = int(delta.days / 365.2425)     \n",
    "    return age\n",
    "\n",
    "df['age'] = [ageInYears(val, currentTime) for val in df['birth_date']]\n",
    "df.to_csv(outPath)\n",
    "print(df.head(5))\n"
   ]
  },
  {
   "cell_type": "markdown",
   "metadata": {},
   "source": [
    "## שאלה 3"
   ]
  },
  {
   "cell_type": "markdown",
   "metadata": {},
   "source": [
    "מצאו את כל האבות שהפרש הגילאים שלהם לאחד מהילדים שלהם הוא מעל 40 שנה. <br>\n",
    "ודאו נכונות תשובתכם."
   ]
  },
  {
   "cell_type": "code",
   "execution_count": 126,
   "metadata": {
    "tags": []
   },
   "outputs": [
    {
     "output_type": "stream",
     "name": "stdout",
     "text": [
      "columns types: Unnamed: 0      int64\n",
      "id              int64\n",
      "teacher_id    float64\n",
      "father_id     float64\n",
      "birth_date     object\n",
      "age             int64\n",
      "dtype: object\n",
      "num of rows in original data: 534000\n",
      "   Unnamed: 0    id  teacher_id  father_id  birth_date  age\n",
      "0           0  3000         NaN        NaN  1941-04-09   79\n",
      "1           1  3001         NaN        NaN  1943-02-05   77\n",
      "2           2  3002         NaN        NaN  1957-02-27   63\n",
      "3           3  3003         NaN        NaN  1949-04-28   71\n",
      "4           4  3004         NaN        NaN  1944-02-26   76\n",
      "num of rows in fathers table: 534000\n",
      "   father_id  father_age\n",
      "0       3000          79\n",
      "1       3001          77\n",
      "2       3002          63\n",
      "3       3003          71\n",
      "4       3004          76\n",
      "num of rows in childs table: 500000\n",
      "       child_id  father_id  child_age\n",
      "34000    100000      39203         12\n",
      "34001    100001      25521         11\n",
      "34002    100002      43095         16\n",
      "34003    100003      33185         10\n",
      "34004    100004      42904         16\n",
      "num of rows in merged table: 500000\n",
      "   child_id  father_id  child_age  father_age\n",
      "0    100000      39203         12          52\n",
      "1    100001      25521         11          53\n",
      "2    100002      43095         16          51\n",
      "3    100003      33185         10          46\n",
      "4    100004      42904         16          44\n",
      "num of rows in merged over 40: 87984\n",
      "    child_id  father_id  child_age  father_age\n",
      "1     100001      25521         11          53\n",
      "6     100006      28510          9          52\n",
      "7     100007      42959         12          54\n",
      "10    100010      36803          9          50\n",
      "14    100014      32633          9          55\n",
      "num of rows in merged over 40 and unique fathers: 87984\n",
      "    child_id  father_id  child_age  father_age\n",
      "1     100001      25521         11          53\n",
      "6     100006      28510          9          52\n",
      "7     100007      42959         12          54\n",
      "10    100010      36803          9          50\n",
      "14    100014      32633          9          55\n",
      "verification\n",
      "child with id 100001\n",
      "       Unnamed: 0      id  teacher_id  father_id  birth_date  age\n",
      "34001       34001  100001      4273.0    25521.0  2009-07-25   11\n",
      "father with id 25521\n",
      "      Unnamed: 0     id  teacher_id  father_id  birth_date  age\n",
      "9521        9521  25521      3062.0        NaN  1967-07-14   53\n"
     ]
    }
   ],
   "source": [
    "import os\n",
    "import pandas as pd\n",
    "from datetime import datetime, timedelta \n",
    "\n",
    "path = os.getcwd() + '\\\\pandas_ex_data_with_age.csv'\n",
    "df = pd.read_csv(path)\n",
    "print(\"columns types: {0}\".format(df.dtypes))\n",
    "print(\"num of rows in original data: {0}\".format(len(df.index)))\n",
    "print(df.head(5))\n",
    "\n",
    "fathers = df[['id', 'age']]\n",
    "fathers.rename(columns={\"age\": \"father_age\"}, inplace=True)\n",
    "fathers.rename(columns={\"id\": \"father_id\"}, inplace=True)\n",
    "print(\"num of rows in fathers table: {0}\".format(len(fathers.index)))\n",
    "print(fathers.head(5))\n",
    "\n",
    "childs = df.loc[df.father_id.notna(), ['id', 'father_id', 'age']]\n",
    "childs['father_id'] = childs['father_id'].map(lambda x: int(x))\n",
    "childs.rename(columns={\"age\": \"child_age\"}, inplace=True)\n",
    "childs.rename(columns={\"id\": \"child_id\"}, inplace=True)\n",
    "print(\"num of rows in childs table: {0}\".format(len(childs.index)))\n",
    "print(childs.head(5))\n",
    "\n",
    "merged = pd.merge(childs, fathers, how='left', on='father_id')\n",
    "print(\"num of rows in merged table: {0}\".format(len(merged.index)))\n",
    "print(merged.head(5))\n",
    "\n",
    "merged = merged[merged['father_age'] - merged['child_age'] > 40]\n",
    "print(\"num of rows in merged over 40: {0}\".format(len(merged.index)))\n",
    "print(merged.head(5))\n",
    "\n",
    "unique_fathers = merged.father_id.unique()\n",
    "merged = merged[merged['father_id'].isin(unique_fathers)]\n",
    "print(\"num of rows in merged over 40 and unique fathers: {0}\".format(len(merged.index)))\n",
    "print(merged.head(5))\n",
    "\n",
    "print(\"verification\")\n",
    "print(\"child with id 100001\")\n",
    "print(df.loc[df['id']==100001])\n",
    "print(\"father with id 25521\")\n",
    "print(df.loc[df['id']==25521])\n",
    "         "
   ]
  },
  {
   "cell_type": "markdown",
   "metadata": {},
   "source": [
    "## שאלה 4"
   ]
  },
  {
   "cell_type": "markdown",
   "metadata": {},
   "source": [
    "חשבו טבלה ששומרת עבור כל מורה כמה תלמידים הוא מלמד. <br>\n",
    "מי המורה עם הכי הרבה תלמידים? כמה תלמידים יש לו? <br>\n",
    "מי המורה עם הכי מעט תלמידים? כמה תלמידים יש לו? <br>"
   ]
  },
  {
   "cell_type": "code",
   "execution_count": 136,
   "metadata": {},
   "outputs": [
    {
     "output_type": "stream",
     "name": "stdout",
     "text": [
      "num of rows in original data: 534000\n   Unnamed: 0    id  teacher_id  father_id  birth_date  age\n0           0  3000         NaN        NaN  1941-04-09   79\n1           1  3001         NaN        NaN  1943-02-05   77\n2           2  3002         NaN        NaN  1957-02-27   63\n3           3  3003         NaN        NaN  1949-04-28   71\n4           4  3004         NaN        NaN  1944-02-26   76\n            size\nteacher_id      \n3000.0       145\n3001.0       140\n3002.0       133\n3003.0       148\n3004.0       156\n...          ...\n71995.0      129\n71996.0      111\n71997.0      133\n71998.0      120\n71999.0      126\n\n[4000 rows x 1 columns]\nteacher with max students\n            size\nteacher_id      \n3977.0       183\nteacher with min students\n            size\nteacher_id      \n71409.0       84\n"
     ]
    }
   ],
   "source": [
    "import os\n",
    "import pandas as pd\n",
    "from datetime import datetime, timedelta \n",
    "\n",
    "path = os.getcwd() + '\\\\pandas_ex_data_with_age.csv'\n",
    "df = pd.read_csv(path)\n",
    "print(\"num of rows in original data: {0}\".format(len(df.index)))\n",
    "print(df.head(5))\n",
    "\n",
    "group_by_teacher = df.groupby(by=\"teacher_id\")\n",
    "students_count_per_teacher = group_by_teacher.size().to_frame('size')\n",
    "print(students_count_per_teacher)\n",
    "\n",
    "print(\"teacher with max students\")\n",
    "teacher_with_max_students = students_count_per_teacher.loc[students_count_per_teacher['size'] == students_count_per_teacher['size'].max()]\n",
    "print(teacher_with_max_students)\n",
    "\n",
    "print(\"teacher with min students\")\n",
    "teacher_with_min_students = students_count_per_teacher.loc[students_count_per_teacher['size'] == students_count_per_teacher['size'].min()]\n",
    "print(teacher_with_min_students)"
   ]
  },
  {
   "cell_type": "markdown",
   "metadata": {},
   "source": [
    "## שאלה 5\n",
    "\n",
    "מה מספר התלמידים הממוצע לכל מורה?\n"
   ]
  },
  {
   "cell_type": "code",
   "execution_count": 138,
   "metadata": {},
   "outputs": [
    {
     "output_type": "stream",
     "name": "stdout",
     "text": [
      "num of rows in original data: 534000\n   Unnamed: 0    id  teacher_id  father_id  birth_date  age\n0           0  3000         NaN        NaN  1941-04-09   79\n1           1  3001         NaN        NaN  1943-02-05   77\n2           2  3002         NaN        NaN  1957-02-27   63\n3           3  3003         NaN        NaN  1949-04-28   71\n4           4  3004         NaN        NaN  1944-02-26   76\n            size\nteacher_id      \n3000.0       145\n3001.0       140\n3002.0       133\n3003.0       148\n3004.0       156\n...          ...\n71995.0      129\n71996.0      111\n71997.0      133\n71998.0      120\n71999.0      126\n\n[4000 rows x 1 columns]\naverage students count per teacher\n133.0\n"
     ]
    }
   ],
   "source": [
    "import os\n",
    "import pandas as pd\n",
    "from datetime import datetime, timedelta \n",
    "\n",
    "path = os.getcwd() + '\\\\pandas_ex_data_with_age.csv'\n",
    "df = pd.read_csv(path)\n",
    "print(\"num of rows in original data: {0}\".format(len(df.index)))\n",
    "print(df.head(5))\n",
    "\n",
    "group_by_teacher = df.groupby(by=\"teacher_id\")\n",
    "students_count_per_teacher = group_by_teacher.size().to_frame('size')\n",
    "print(students_count_per_teacher)\n",
    "\n",
    "average_students_per_teacher = students_count_per_teacher['size'].mean()\n",
    "print(\"average students count per teacher\")\n",
    "print(average_students_per_teacher)"
   ]
  },
  {
   "source": [
    "## שאלה 6"
   ],
   "cell_type": "markdown",
   "metadata": {}
  },
  {
   "cell_type": "markdown",
   "metadata": {},
   "source": [
    "מה הפרש הגילאים הגדול ביותר בין 2 תלמידים של אותו המורה? <br>\n",
    "ודאו נכונות תשובתכם"
   ]
  },
  {
   "cell_type": "code",
   "execution_count": 165,
   "metadata": {
    "tags": []
   },
   "outputs": [
    {
     "output_type": "stream",
     "name": "stdout",
     "text": [
      "num of rows in original data: 534000\n        Unnamed: 0      id  teacher_id  father_id  birth_date  age\n0                0    3000         NaN        NaN  1941-04-09   79\n1                1    3001         NaN        NaN  1943-02-05   77\n...            ...     ...         ...        ...         ...  ...\n533998      533998  599998     71964.0    34623.0  2009-04-19   11\n533999      533999  599999      3534.0    34653.0  2005-06-23   15\n\n[534000 rows x 6 columns]\n            minAge\nteacher_id        \n3000.0           8\n3001.0           8\n...            ...\n71998.0          8\n71999.0          8\n\n[4000 rows x 1 columns]\n            maxAge\nteacher_id        \n3000.0          55\n3001.0          53\n...            ...\n71998.0         17\n71999.0         17\n\n[4000 rows x 1 columns]\n            minAge  maxAge\nteacher_id                \n3000.0           8      55\n3001.0           8      53\n...            ...     ...\n71998.0          8      17\n71999.0          8      17\n\n[4000 rows x 2 columns]\n            minAge  maxAge  age_diff\nteacher_id                          \n3000.0           8      55        47\n3001.0           8      53        45\n...            ...     ...       ...\n71998.0          8      17         9\n71999.0          8      17         9\n\n[4000 rows x 3 columns]\n            minAge  maxAge  age_diff\nteacher_id                          \n3028.0           8      56        48\n3033.0           8      56        48\n...            ...     ...       ...\n4968.0           8      56        48\n4986.0           8      56        48\n\n[67 rows x 3 columns]\n"
     ]
    }
   ],
   "source": [
    "import os\n",
    "import pandas as pd\n",
    "from datetime import datetime, timedelta\n",
    "import numpy as np\n",
    "\n",
    "# Use 3 decimal places in output display\n",
    "pd.set_option(\"display.precision\", 3)\n",
    "\n",
    "# Don't wrap repr(DataFrame) across additional lines\n",
    "pd.set_option(\"display.expand_frame_repr\", False)\n",
    "\n",
    "# Set max rows displayed in output to 25\n",
    "pd.set_option(\"display.max_rows\", 5)\n",
    "\n",
    "path = os.getcwd() + '\\\\pandas_ex_data_with_age.csv'\n",
    "df = pd.read_csv(path)\n",
    "print(\"num of rows in original data: {0}\".format(len(df.index)))\n",
    "print(df)\n",
    "\n",
    "group_by_teacher_min_age = df.groupby(by=\"teacher_id\")['age'].min().to_frame('minAge')\n",
    "print(group_by_teacher_min_age)\n",
    "\n",
    "group_by_teacher_max_age = df.groupby(by=\"teacher_id\")['age'].max().to_frame('maxAge')\n",
    "print(group_by_teacher_max_age)\n",
    "\n",
    "group_by_teacher_merge_age = pd.merge(group_by_teacher_min_age, group_by_teacher_max_age, how='left', on='teacher_id')\n",
    "print(group_by_teacher_merge_age)\n",
    "\n",
    "group_by_teacher_merge_age['age_diff'] = group_by_teacher_merge_age['maxAge'] - group_by_teacher_merge_age['minAge']\n",
    "print(group_by_teacher_merge_age)\n",
    "\n",
    "teacher_with_max_students_age_diff = group_by_teacher_merge_age.loc[group_by_teacher_merge_age['age_diff']==group_by_teacher_merge_age['age_diff'].max()]\n",
    "print(teacher_with_max_students_age_diff)\n",
    "\n"
   ]
  },
  {
   "cell_type": "markdown",
   "metadata": {},
   "source": [
    "## שאלה 7"
   ]
  },
  {
   "cell_type": "markdown",
   "metadata": {},
   "source": [
    "מי המורה הצעיר ביותר? מה גילו?"
   ]
  },
  {
   "cell_type": "code",
   "execution_count": 177,
   "metadata": {},
   "outputs": [
    {
     "output_type": "stream",
     "name": "stdout",
     "text": [
      "num of rows in original data: 534000\n",
      "        Unnamed: 0      id  teacher_id  father_id  birth_date  age\n",
      "0                0    3000         NaN        NaN  1941-04-09   79\n",
      "1                1    3001         NaN        NaN  1943-02-05   77\n",
      "...            ...     ...         ...        ...         ...  ...\n",
      "533998      533998  599998     71964.0    34623.0  2009-04-19   11\n",
      "533999      533999  599999      3534.0    34653.0  2005-06-23   15\n",
      "\n",
      "[534000 rows x 6 columns]\n",
      "all teachers\n",
      "        teacher_id\n",
      "2000          3737\n",
      "2001          3886\n",
      "...            ...\n",
      "533998       71964\n",
      "533999        3534\n",
      "\n",
      "[532000 rows x 1 columns]\n",
      "all unique teachers length: 4000\n",
      "[ 3737  3886  4572 ... 71635 70557 70179]\n",
      "all teachers with age\n",
      "      Unnamed: 0     id  teacher_id  father_id  birth_date  age\n",
      "0              0   3000         NaN        NaN  1941-04-09   79\n",
      "1              1   3001         NaN        NaN  1943-02-05   77\n",
      "...          ...    ...         ...        ...         ...  ...\n",
      "3998        3998  71998      3335.0        NaN  1986-03-05   34\n",
      "3999        3999  71999      3501.0        NaN  1986-08-14   34\n",
      "\n",
      "[4000 rows x 6 columns]\n",
      "youngest teachers\n",
      "      Unnamed: 0     id  teacher_id  father_id  birth_date  age\n",
      "2043        2043  70043      4021.0        NaN  1995-05-08   25\n",
      "2047        2047  70047      4277.0        NaN  1995-12-15   25\n",
      "...          ...    ...         ...        ...         ...  ...\n",
      "3974        3974  71974      4632.0        NaN  1995-11-15   25\n",
      "3989        3989  71989      4973.0        NaN  1995-07-10   25\n",
      "\n",
      "[98 rows x 6 columns]\n"
     ]
    }
   ],
   "source": [
    "import os\n",
    "import pandas as pd\n",
    "from datetime import datetime, timedelta\n",
    "import numpy as np\n",
    "\n",
    "# Use 3 decimal places in output display\n",
    "pd.set_option(\"display.precision\", 3)\n",
    "\n",
    "# Don't wrap repr(DataFrame) across additional lines\n",
    "pd.set_option(\"display.expand_frame_repr\", False)\n",
    "\n",
    "# Set max rows displayed in output to 5\n",
    "pd.set_option(\"display.max_rows\", 5)\n",
    "\n",
    "path = os.getcwd() + '\\\\pandas_ex_data_with_age.csv'\n",
    "df = pd.read_csv(path)\n",
    "print(\"num of rows in original data: {0}\".format(len(df.index)))\n",
    "print(df)\n",
    "\n",
    "teachers = df.loc[df.teacher_id.notna(), ['teacher_id']]\n",
    "teachers['teacher_id'] = teachers['teacher_id'].map(lambda x: int(x))\n",
    "print(\"all teachers\")\n",
    "print(teachers)\n",
    "\n",
    "unique_teachers = teachers['teacher_id'].unique()\n",
    "print(\"all unique teachers length: {}\".format(len(unique_teachers)))\n",
    "print(unique_teachers)\n",
    "\n",
    "all_teachers_age = df.loc[df['id'].isin(unique_teachers)]\n",
    "print(\"all teachers with age\")\n",
    "print(all_teachers_age)\n",
    "\n",
    "youngest_teachers = all_teachers_age.loc[all_teachers_age['age'] == all_teachers_age['age'].min()]\n",
    "print(\"youngest teachers\")\n",
    "print(youngest_teachers)\n",
    "\n"
   ]
  },
  {
   "cell_type": "markdown",
   "metadata": {},
   "source": [
    "## שאלה 8"
   ]
  },
  {
   "cell_type": "markdown",
   "metadata": {},
   "source": [
    "מצאו תלמיד ומורה שהפרש הגילאים ביניהם הוא הקטן ביותר. מה הפרש זה ומי התלמיד והמורה?"
   ]
  },
  {
   "cell_type": "code",
   "execution_count": 185,
   "metadata": {},
   "outputs": [
    {
     "output_type": "stream",
     "name": "stdout",
     "text": [
      "columns types: Unnamed: 0     int64\n",
      "id             int64\n",
      "               ...  \n",
      "birth_date    object\n",
      "age            int64\n",
      "Length: 6, dtype: object\n",
      "num of rows in original data: 534000\n",
      "   Unnamed: 0    id  teacher_id  father_id  birth_date  age\n",
      "0           0  3000         NaN        NaN  1941-04-09   79\n",
      "1           1  3001         NaN        NaN  1943-02-05   77\n",
      "2           2  3002         NaN        NaN  1957-02-27   63\n",
      "3           3  3003         NaN        NaN  1949-04-28   71\n",
      "4           4  3004         NaN        NaN  1944-02-26   76\n",
      "num of rows in teachers table: 534000\n",
      "   teacher_id  teacher_age\n",
      "0        3000           79\n",
      "1        3001           77\n",
      "2        3002           63\n",
      "3        3003           71\n",
      "4        3004           76\n",
      "num of rows in students table: 532000\n",
      "      student_id  teacher_id  student_age\n",
      "2000       70000        3737           27\n",
      "2001       70001        3886           40\n",
      "2002       70002        4572           30\n",
      "2003       70003        3329           29\n",
      "2004       70004        4598           34\n",
      "num of rows in merged table: 532000\n",
      "   student_id  teacher_id  student_age  teacher_age\n",
      "0       70000        3737           27           64\n",
      "1       70001        3886           40           74\n",
      "2       70002        4572           30           80\n",
      "3       70003        3329           29           63\n",
      "4       70004        4598           34           61\n",
      "num of rows in merged with age_diff: 532000\n",
      "   student_id  teacher_id  student_age  teacher_age  age_diff\n",
      "0       70000        3737           27           64        37\n",
      "1       70001        3886           40           74        34\n",
      "2       70002        4572           30           80        50\n",
      "3       70003        3329           29           63        34\n",
      "4       70004        4598           34           61        27\n",
      "min age diff between teacher and student\n",
      "       student_id  teacher_id  student_age  teacher_age  age_diff\n",
      "19252       37252        3855           56           60         4\n"
     ]
    }
   ],
   "source": [
    "import os\n",
    "import pandas as pd\n",
    "from datetime import datetime, timedelta \n",
    "\n",
    "path = os.getcwd() + '\\\\pandas_ex_data_with_age.csv'\n",
    "df = pd.read_csv(path)\n",
    "print(\"columns types: {0}\".format(df.dtypes))\n",
    "print(\"num of rows in original data: {0}\".format(len(df.index)))\n",
    "print(df.head(5))\n",
    "\n",
    "teachers = df[['id', 'age']]\n",
    "teachers.rename(columns={\"age\": \"teacher_age\"}, inplace=True)\n",
    "teachers.rename(columns={\"id\": \"teacher_id\"}, inplace=True)\n",
    "print(\"num of rows in teachers table: {0}\".format(len(teachers.index)))\n",
    "print(teachers.head(5))\n",
    "\n",
    "students = df.loc[df.teacher_id.notna(), ['id', 'teacher_id', 'age']]\n",
    "students['teacher_id'] = students['teacher_id'].map(lambda x: int(x))\n",
    "students.rename(columns={\"age\": \"student_age\"}, inplace=True)\n",
    "students.rename(columns={\"id\": \"student_id\"}, inplace=True)\n",
    "print(\"num of rows in students table: {0}\".format(len(students.index)))\n",
    "print(students.head(5))\n",
    "\n",
    "merged = pd.merge(students, teachers, how='left', on='teacher_id')\n",
    "print(\"num of rows in merged table: {0}\".format(len(merged.index)))\n",
    "print(merged.head(5))\n",
    "\n",
    "merged['age_diff'] = merged['teacher_age'] - merged['student_age']\n",
    "print(\"num of rows in merged with age_diff: {0}\".format(len(merged.index)))\n",
    "print(merged.head(5))\n",
    "\n",
    "min_diff_between_teacher_and_student = merged.loc[merged['age_diff']==merged['age_diff'].min()]\n",
    "print(\"min age diff between teacher and student\")\n",
    "print(min_diff_between_teacher_and_student)\n"
   ]
  },
  {
   "cell_type": "markdown",
   "metadata": {},
   "source": [
    "## שאלה 9"
   ]
  },
  {
   "cell_type": "markdown",
   "metadata": {},
   "source": [
    "נסחו עוד שאלה מעניינת בנוגע לקובץ זה וענו עליה"
   ]
  }
 ],
 "metadata": {
  "kernelspec": {
   "display_name": "Python 3",
   "language": "python",
   "name": "python3"
  },
  "language_info": {
   "codemirror_mode": {
    "name": "ipython",
    "version": 3
   },
   "file_extension": ".py",
   "mimetype": "text/x-python",
   "name": "python",
   "nbconvert_exporter": "python",
   "pygments_lexer": "ipython3",
   "version": "3.8.5-final"
  }
 },
 "nbformat": 4,
 "nbformat_minor": 2
}